{
  "nbformat": 4,
  "nbformat_minor": 0,
  "metadata": {
    "colab": {
      "name": "matriz_adj.ipynb",
      "provenance": [],
      "collapsed_sections": [],
      "mount_file_id": "1kGnJZNE9_WBRfp8M5weZ6wM6S-5VrSjF",
      "authorship_tag": "ABX9TyMP023K1EOVkDZ3020kwzJz",
      "include_colab_link": true
    },
    "kernelspec": {
      "name": "python3",
      "display_name": "Python 3"
    },
    "language_info": {
      "name": "python"
    }
  },
  "cells": [
    {
      "cell_type": "markdown",
      "metadata": {
        "id": "view-in-github",
        "colab_type": "text"
      },
      "source": [
        "<a href=\"https://colab.research.google.com/github/brenddonandrade/Adaca/blob/main/matriz_adj.ipynb\" target=\"_parent\"><img src=\"https://colab.research.google.com/assets/colab-badge.svg\" alt=\"Open In Colab\"/></a>"
      ]
    },
    {
      "cell_type": "code",
      "execution_count": null,
      "metadata": {
        "id": "EFpVl-g0eHlo",
        "colab": {
          "base_uri": "https://localhost:8080/"
        },
        "outputId": "987e93da-44c5-4d30-92a5-504fcb4eef18"
      },
      "outputs": [
        {
          "output_type": "stream",
          "name": "stdout",
          "text": [
            "A matriz de adjacencias é: \n",
            "[0, 0, 0, 0]\n",
            "[0, 0, 0, 0]\n",
            "[0, 0, 0, 0]\n",
            "[0, 0, 0, 0]\n"
          ]
        }
      ],
      "source": [
        "class Grafo:\n",
        "  \n",
        "  def __init__(self, vertices):\n",
        "    self.vertices = vertices\n",
        "    self.grafo = [[0]*self.vertices for i in range(self.vertices)]\n",
        "\n",
        "  def adiciona_aresta(self, u, v):\n",
        "    #nao direcionado\n",
        "    self.grafo[u-1][v-1] = 1\n",
        "    self.grafo[v-1][u-1] = 1\n",
        "\n",
        "  def mostra_matriz(self):\n",
        "    print('A matriz de adjacencias é: ')\n",
        "    for i in range(self.vertices):\n",
        "      print(self.grafo[i])\n",
        "\n",
        "g = Grafo(4)\n",
        "g.mostra_matriz()"
      ]
    }
  ]
}